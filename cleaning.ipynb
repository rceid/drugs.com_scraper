{
 "cells": [
  {
   "cell_type": "markdown",
   "id": "91be37ef-8f94-486f-9397-ddc8a8e50919",
   "metadata": {},
   "source": [
    "# Cleaning the scraped data"
   ]
  },
  {
   "cell_type": "code",
   "execution_count": 3,
   "id": "c8e83aaf-6dc1-4c3a-86cb-bbde301880d0",
   "metadata": {},
   "outputs": [],
   "source": [
    "import pandas as pd"
   ]
  },
  {
   "cell_type": "code",
   "execution_count": 55,
   "id": "33217f1d-871f-4d8f-971b-b99b8b870406",
   "metadata": {},
   "outputs": [],
   "source": [
    "data1 = \"./data/A_data.tsv\"\n",
    "data2 = \"./data/BM_data.tsv\"\n",
    "data3 = \"./data/NS_data.tsv\"\n",
    "data4 = \"./data/TZ_data.tsv\""
   ]
  },
  {
   "cell_type": "code",
   "execution_count": 56,
   "id": "d43ea461-bffe-4820-b20c-c172f1afd9e7",
   "metadata": {},
   "outputs": [],
   "source": [
    "df1 = pd.read_csv(data1, sep=\"\\t\")\n",
    "df2 = pd.read_csv(data2, sep=\"\\t\")\n",
    "df3 = pd.read_csv(data3, sep=\"\\t\")\n",
    "df4 = pd.read_csv(data4, sep=\"\\t\")"
   ]
  },
  {
   "cell_type": "markdown",
   "id": "45baf814-6882-42f7-9b29-7fa69616980d",
   "metadata": {},
   "source": [
    "## Because of how Drugs.com categorizes reviews, many get repeated, we must therefore drop duplicated reviews"
   ]
  },
  {
   "cell_type": "code",
   "execution_count": 57,
   "id": "a579d2a7-d684-41fd-9557-8b44f7cf53e7",
   "metadata": {},
   "outputs": [],
   "source": [
    "new_df1 = df1.drop_duplicates(subset='review', keep=\"first\")"
   ]
  },
  {
   "cell_type": "code",
   "execution_count": 58,
   "id": "16de4558-2495-4f3f-82bc-a96ebce48537",
   "metadata": {},
   "outputs": [],
   "source": [
    "repeated_review = \"It didn't really change his behavior. Within a year he began showing symptoms of ADHD, despite no signs before starting the med. Is the restlessness really ADHD, or is it akathisia caused by the med? He also became compulsive on Abilify, which I learned only recently is a known side-effect of the medication. His BMI is now borderline obese, \""
   ]
  },
  {
   "cell_type": "code",
   "execution_count": 59,
   "id": "1926321c-2257-487c-bde2-ea8445006df4",
   "metadata": {},
   "outputs": [
    {
     "name": "stdout",
     "output_type": "stream",
     "text": [
      "Df drops from  28203 reviews to 11538 reviews after dropping duplicates,  40.91 % decrease\n"
     ]
    }
   ],
   "source": [
    "print(\"Df drops from \", len(df1), \"reviews to\", len(new_df1), \"reviews after dropping duplicates, \", round((len(new_df1)/len(df1))*100, 2), \"% decrease\")"
   ]
  },
  {
   "cell_type": "markdown",
   "id": "e240b96c-d1a4-4376-88e2-d85d8ecfcb69",
   "metadata": {},
   "source": [
    "### Example of repeated review"
   ]
  },
  {
   "cell_type": "code",
   "execution_count": 60,
   "id": "740ce200-8a53-4655-938e-fcbb09217a16",
   "metadata": {},
   "outputs": [
    {
     "data": {
      "text/html": [
       "<div>\n",
       "<style scoped>\n",
       "    .dataframe tbody tr th:only-of-type {\n",
       "        vertical-align: middle;\n",
       "    }\n",
       "\n",
       "    .dataframe tbody tr th {\n",
       "        vertical-align: top;\n",
       "    }\n",
       "\n",
       "    .dataframe thead th {\n",
       "        text-align: right;\n",
       "    }\n",
       "</style>\n",
       "<table border=\"1\" class=\"dataframe\">\n",
       "  <thead>\n",
       "    <tr style=\"text-align: right;\">\n",
       "      <th></th>\n",
       "      <th>drugName</th>\n",
       "      <th>condition</th>\n",
       "      <th>review</th>\n",
       "      <th>rating</th>\n",
       "      <th>date</th>\n",
       "      <th>usefulCount</th>\n",
       "    </tr>\n",
       "  </thead>\n",
       "  <tbody>\n",
       "    <tr>\n",
       "      <th>261</th>\n",
       "      <td>Abilify</td>\n",
       "      <td>Agitated State</td>\n",
       "      <td>My son was prescribed Abilify for \"aggressive\"...</td>\n",
       "      <td>1.0</td>\n",
       "      <td>January 25, 2021</td>\n",
       "      <td>4</td>\n",
       "    </tr>\n",
       "    <tr>\n",
       "      <th>386</th>\n",
       "      <td>Abilify (Intramuscular)</td>\n",
       "      <td>Agitated State</td>\n",
       "      <td>My son was prescribed Abilify for \"aggressive\"...</td>\n",
       "      <td>1.0</td>\n",
       "      <td>January 25, 2021</td>\n",
       "      <td>4</td>\n",
       "    </tr>\n",
       "    <tr>\n",
       "      <th>21085</th>\n",
       "      <td>ARIPiprazole Lauroxil</td>\n",
       "      <td>Abilify (aripiprazole) for Agitated State</td>\n",
       "      <td>My son was prescribed Abilify for \"aggressive\"...</td>\n",
       "      <td>1.0</td>\n",
       "      <td>January 25, 2021</td>\n",
       "      <td>4</td>\n",
       "    </tr>\n",
       "    <tr>\n",
       "      <th>21405</th>\n",
       "      <td>Aripiprazole</td>\n",
       "      <td>Abilify (aripiprazole) for Agitated State</td>\n",
       "      <td>My son was prescribed Abilify for \"aggressive\"...</td>\n",
       "      <td>1.0</td>\n",
       "      <td>January 25, 2021</td>\n",
       "      <td>4</td>\n",
       "    </tr>\n",
       "    <tr>\n",
       "      <th>21530</th>\n",
       "      <td>Aripiprazole (Intramuscular)</td>\n",
       "      <td>Abilify (aripiprazole) for Agitated State</td>\n",
       "      <td>My son was prescribed Abilify for \"aggressive\"...</td>\n",
       "      <td>1.0</td>\n",
       "      <td>January 25, 2021</td>\n",
       "      <td>4</td>\n",
       "    </tr>\n",
       "    <tr>\n",
       "      <th>21655</th>\n",
       "      <td>Aripiprazole ODT</td>\n",
       "      <td>Abilify (aripiprazole) for Agitated State</td>\n",
       "      <td>My son was prescribed Abilify for \"aggressive\"...</td>\n",
       "      <td>1.0</td>\n",
       "      <td>January 25, 2021</td>\n",
       "      <td>4</td>\n",
       "    </tr>\n",
       "    <tr>\n",
       "      <th>21780</th>\n",
       "      <td>Aripiprazole Oral Solution</td>\n",
       "      <td>Abilify (aripiprazole) for Agitated State</td>\n",
       "      <td>My son was prescribed Abilify for \"aggressive\"...</td>\n",
       "      <td>1.0</td>\n",
       "      <td>January 25, 2021</td>\n",
       "      <td>4</td>\n",
       "    </tr>\n",
       "    <tr>\n",
       "      <th>21905</th>\n",
       "      <td>Aripiprazole Tablets</td>\n",
       "      <td>Abilify (aripiprazole) for Agitated State</td>\n",
       "      <td>My son was prescribed Abilify for \"aggressive\"...</td>\n",
       "      <td>1.0</td>\n",
       "      <td>January 25, 2021</td>\n",
       "      <td>4</td>\n",
       "    </tr>\n",
       "    <tr>\n",
       "      <th>22030</th>\n",
       "      <td>Aripiprazole (injection)</td>\n",
       "      <td>Abilify (aripiprazole) for Agitated State</td>\n",
       "      <td>My son was prescribed Abilify for \"aggressive\"...</td>\n",
       "      <td>1.0</td>\n",
       "      <td>January 25, 2021</td>\n",
       "      <td>4</td>\n",
       "    </tr>\n",
       "    <tr>\n",
       "      <th>22155</th>\n",
       "      <td>Aripiprazole lauroxil (Intramuscular)</td>\n",
       "      <td>Abilify (aripiprazole) for Agitated State</td>\n",
       "      <td>My son was prescribed Abilify for \"aggressive\"...</td>\n",
       "      <td>1.0</td>\n",
       "      <td>January 25, 2021</td>\n",
       "      <td>4</td>\n",
       "    </tr>\n",
       "  </tbody>\n",
       "</table>\n",
       "</div>"
      ],
      "text/plain": [
       "                                    drugName  \\\n",
       "261                                  Abilify   \n",
       "386                  Abilify (Intramuscular)   \n",
       "21085                  ARIPiprazole Lauroxil   \n",
       "21405                           Aripiprazole   \n",
       "21530           Aripiprazole (Intramuscular)   \n",
       "21655                       Aripiprazole ODT   \n",
       "21780             Aripiprazole Oral Solution   \n",
       "21905                   Aripiprazole Tablets   \n",
       "22030               Aripiprazole (injection)   \n",
       "22155  Aripiprazole lauroxil (Intramuscular)   \n",
       "\n",
       "                                       condition  \\\n",
       "261                               Agitated State   \n",
       "386                               Agitated State   \n",
       "21085  Abilify (aripiprazole) for Agitated State   \n",
       "21405  Abilify (aripiprazole) for Agitated State   \n",
       "21530  Abilify (aripiprazole) for Agitated State   \n",
       "21655  Abilify (aripiprazole) for Agitated State   \n",
       "21780  Abilify (aripiprazole) for Agitated State   \n",
       "21905  Abilify (aripiprazole) for Agitated State   \n",
       "22030  Abilify (aripiprazole) for Agitated State   \n",
       "22155  Abilify (aripiprazole) for Agitated State   \n",
       "\n",
       "                                                  review  rating  \\\n",
       "261    My son was prescribed Abilify for \"aggressive\"...     1.0   \n",
       "386    My son was prescribed Abilify for \"aggressive\"...     1.0   \n",
       "21085  My son was prescribed Abilify for \"aggressive\"...     1.0   \n",
       "21405  My son was prescribed Abilify for \"aggressive\"...     1.0   \n",
       "21530  My son was prescribed Abilify for \"aggressive\"...     1.0   \n",
       "21655  My son was prescribed Abilify for \"aggressive\"...     1.0   \n",
       "21780  My son was prescribed Abilify for \"aggressive\"...     1.0   \n",
       "21905  My son was prescribed Abilify for \"aggressive\"...     1.0   \n",
       "22030  My son was prescribed Abilify for \"aggressive\"...     1.0   \n",
       "22155  My son was prescribed Abilify for \"aggressive\"...     1.0   \n",
       "\n",
       "                   date  usefulCount  \n",
       "261    January 25, 2021            4  \n",
       "386    January 25, 2021            4  \n",
       "21085  January 25, 2021            4  \n",
       "21405  January 25, 2021            4  \n",
       "21530  January 25, 2021            4  \n",
       "21655  January 25, 2021            4  \n",
       "21780  January 25, 2021            4  \n",
       "21905  January 25, 2021            4  \n",
       "22030  January 25, 2021            4  \n",
       "22155  January 25, 2021            4  "
      ]
     },
     "execution_count": 60,
     "metadata": {},
     "output_type": "execute_result"
    }
   ],
   "source": [
    "df1[df1['review'].apply(lambda rev: repeated_review in rev)]"
   ]
  },
  {
   "cell_type": "code",
   "execution_count": 61,
   "id": "f19ca1ad-00db-4e1c-b2aa-1f7998880672",
   "metadata": {},
   "outputs": [],
   "source": [
    "new_df2 = df2.drop_duplicates(subset='review', keep=\"first\")\n",
    "new_df3 = df3.drop_duplicates(subset='review', keep=\"first\")\n",
    "#df4 = new_df4.drop_duplicates(subset='review', keep=\"first\")"
   ]
  },
  {
   "cell_type": "code",
   "execution_count": 62,
   "id": "105185d1-006d-437e-87ad-9d7842e8eedd",
   "metadata": {},
   "outputs": [
    {
     "name": "stdout",
     "output_type": "stream",
     "text": [
      "Df2 before 149144, after:44787, 30.03% decrease\n",
      "Df3 before 69772, after:26151, 37.48% decrease\n"
     ]
    }
   ],
   "source": [
    "print(\"Df2 before {}, after:{}, {}% decrease\".format(len(df2), len(new_df2), round((len(new_df2)/len(df2))*100,2)))\n",
    "print(\"Df3 before {}, after:{}, {}% decrease\".format(len(df3), len(new_df3), round((len(new_df3)/len(df3))*100,2)))\n",
    "#print(\"Df4 before {}, after:{}, {}% decrease\".format(len(df4), len(new_df4), round((len(new_df4)/len(df4))*100,2)))"
   ]
  },
  {
   "cell_type": "code",
   "execution_count": 63,
   "id": "3bd8865b-61f8-458c-a9f9-f92ce280fbd7",
   "metadata": {},
   "outputs": [],
   "source": [
    "final_df = pd.concat([new_df1, new_df2, new_df3, new_df4])"
   ]
  },
  {
   "cell_type": "code",
   "execution_count": null,
   "id": "4dc3bb24-db2f-44b5-b39a-1712b142a3fb",
   "metadata": {},
   "outputs": [],
   "source": []
  }
 ],
 "metadata": {
  "kernelspec": {
   "display_name": "Python 3",
   "language": "python",
   "name": "python3"
  },
  "language_info": {
   "codemirror_mode": {
    "name": "ipython",
    "version": 3
   },
   "file_extension": ".py",
   "mimetype": "text/x-python",
   "name": "python",
   "nbconvert_exporter": "python",
   "pygments_lexer": "ipython3",
   "version": "3.7.9"
  }
 },
 "nbformat": 4,
 "nbformat_minor": 5
}
